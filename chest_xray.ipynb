{
 "cells": [
  {
   "cell_type": "code",
   "execution_count": 1,
   "id": "surrounded-february",
   "metadata": {},
   "outputs": [
    {
     "name": "stderr",
     "output_type": "stream",
     "text": [
      "Using TensorFlow backend.\n"
     ]
    }
   ],
   "source": [
    "import tensorflow as tf\n",
    "from keras.preprocessing.image import ImageDataGenerator\n",
    "from tensorflow.keras.models import load_model"
   ]
  },
  {
   "cell_type": "code",
   "execution_count": 2,
   "id": "wooden-tongue",
   "metadata": {},
   "outputs": [
    {
     "data": {
      "text/plain": [
       "'2.0.0'"
      ]
     },
     "execution_count": 2,
     "metadata": {},
     "output_type": "execute_result"
    }
   ],
   "source": [
    "tf.__version__"
   ]
  },
  {
   "cell_type": "code",
   "execution_count": 3,
   "id": "driving-chick",
   "metadata": {},
   "outputs": [
    {
     "name": "stdout",
     "output_type": "stream",
     "text": [
      "Found 5216 images belonging to 2 classes.\n"
     ]
    }
   ],
   "source": [
    "train_datagen = ImageDataGenerator(\n",
    "        rescale=1./255,\n",
    "        shear_range=0.2,\n",
    "        zoom_range=0.2,\n",
    "        horizontal_flip=True)\n",
    "training_set = train_datagen.flow_from_directory(\n",
    "        'C:/Users/allwy/Desktop/chest_xray/train',\n",
    "        target_size=(64, 64),\n",
    "        batch_size=32,\n",
    "        class_mode='binary')"
   ]
  },
  {
   "cell_type": "code",
   "execution_count": 4,
   "id": "authorized-addition",
   "metadata": {},
   "outputs": [
    {
     "name": "stdout",
     "output_type": "stream",
     "text": [
      "Found 624 images belonging to 2 classes.\n"
     ]
    }
   ],
   "source": [
    "test_datagen = ImageDataGenerator(rescale=1./255)\n",
    "test_set = test_datagen.flow_from_directory(\n",
    "        'C:/Users/allwy/Desktop/chest_xray/test',\n",
    "        target_size=(64, 64),\n",
    "        batch_size=32,\n",
    "        class_mode='binary')"
   ]
  },
  {
   "cell_type": "code",
   "execution_count": 5,
   "id": "identical-quest",
   "metadata": {},
   "outputs": [],
   "source": [
    "cnn = tf.keras.models.Sequential()"
   ]
  },
  {
   "cell_type": "code",
   "execution_count": 6,
   "id": "provincial-cleveland",
   "metadata": {},
   "outputs": [],
   "source": [
    "cnn.add(tf.keras.layers.Conv2D(filters=32, kernel_size=3, activation='relu', input_shape=[64,64,3]))"
   ]
  },
  {
   "cell_type": "code",
   "execution_count": 7,
   "id": "transsexual-dancing",
   "metadata": {},
   "outputs": [],
   "source": [
    "cnn.add(tf.keras.layers.MaxPool2D(pool_size=2,strides=2))"
   ]
  },
  {
   "cell_type": "code",
   "execution_count": 8,
   "id": "relative-plain",
   "metadata": {},
   "outputs": [],
   "source": [
    "cnn.add(tf.keras.layers.Flatten())"
   ]
  },
  {
   "cell_type": "code",
   "execution_count": 9,
   "id": "similar-saint",
   "metadata": {},
   "outputs": [],
   "source": [
    "cnn.add(tf.keras.layers.Dense(units=128, activation='relu'))"
   ]
  },
  {
   "cell_type": "code",
   "execution_count": 10,
   "id": "religious-agent",
   "metadata": {},
   "outputs": [],
   "source": [
    "cnn.add(tf.keras.layers.Dense(units=1, activation='sigmoid'))"
   ]
  },
  {
   "cell_type": "code",
   "execution_count": 11,
   "id": "cleared-evidence",
   "metadata": {},
   "outputs": [],
   "source": [
    "cnn.compile(optimizer='adam', loss='binary_crossentropy', metrics=['accuracy'])"
   ]
  },
  {
   "cell_type": "code",
   "execution_count": 12,
   "id": "revised-logan",
   "metadata": {
    "scrolled": false
   },
   "outputs": [
    {
     "name": "stdout",
     "output_type": "stream",
     "text": [
      "Train for 163 steps, validate for 20 steps\n",
      "Epoch 1/15\n",
      "163/163 [==============================] - 81s 497ms/step - loss: 0.3363 - accuracy: 0.8627 - val_loss: 0.3276 - val_accuracy: 0.8718\n",
      "Epoch 2/15\n",
      "163/163 [==============================] - 87s 533ms/step - loss: 0.2127 - accuracy: 0.9103 - val_loss: 0.5499 - val_accuracy: 0.7756\n",
      "Epoch 3/15\n",
      "163/163 [==============================] - 82s 503ms/step - loss: 0.1766 - accuracy: 0.9289 - val_loss: 0.7302 - val_accuracy: 0.7692\n",
      "Epoch 4/15\n",
      "163/163 [==============================] - 82s 504ms/step - loss: 0.1642 - accuracy: 0.9396 - val_loss: 0.3737 - val_accuracy: 0.8638\n",
      "Epoch 5/15\n",
      "163/163 [==============================] - 82s 506ms/step - loss: 0.1558 - accuracy: 0.9423 - val_loss: 0.2952 - val_accuracy: 0.8814\n",
      "Epoch 6/15\n",
      "163/163 [==============================] - 76s 467ms/step - loss: 0.1449 - accuracy: 0.9421 - val_loss: 0.7185 - val_accuracy: 0.7660\n",
      "Epoch 7/15\n",
      "163/163 [==============================] - 75s 458ms/step - loss: 0.1494 - accuracy: 0.9423 - val_loss: 0.5656 - val_accuracy: 0.8077\n",
      "Epoch 8/15\n",
      "163/163 [==============================] - 74s 457ms/step - loss: 0.1406 - accuracy: 0.9440 - val_loss: 0.4609 - val_accuracy: 0.8542\n",
      "Epoch 9/15\n",
      "163/163 [==============================] - 74s 457ms/step - loss: 0.1327 - accuracy: 0.9494 - val_loss: 0.4905 - val_accuracy: 0.8478\n",
      "Epoch 10/15\n",
      "163/163 [==============================] - 74s 455ms/step - loss: 0.1338 - accuracy: 0.9498 - val_loss: 0.5428 - val_accuracy: 0.8365\n",
      "Epoch 11/15\n",
      "163/163 [==============================] - 74s 456ms/step - loss: 0.1295 - accuracy: 0.9532 - val_loss: 0.6029 - val_accuracy: 0.8301\n",
      "Epoch 12/15\n",
      "163/163 [==============================] - 74s 455ms/step - loss: 0.1293 - accuracy: 0.9490 - val_loss: 0.3551 - val_accuracy: 0.8958\n",
      "Epoch 13/15\n",
      "163/163 [==============================] - 74s 454ms/step - loss: 0.1471 - accuracy: 0.9404 - val_loss: 0.6511 - val_accuracy: 0.8109\n",
      "Epoch 14/15\n",
      "163/163 [==============================] - 73s 451ms/step - loss: 0.1309 - accuracy: 0.9519 - val_loss: 0.5375 - val_accuracy: 0.8285\n",
      "Epoch 15/15\n",
      "163/163 [==============================] - 73s 450ms/step - loss: 0.1207 - accuracy: 0.9530 - val_loss: 0.4047 - val_accuracy: 0.8622\n"
     ]
    },
    {
     "data": {
      "text/plain": [
       "<tensorflow.python.keras.callbacks.History at 0x25e72c656c8>"
      ]
     },
     "execution_count": 12,
     "metadata": {},
     "output_type": "execute_result"
    }
   ],
   "source": [
    "cnn.fit(x = training_set, validation_data = test_set, epochs = 15)"
   ]
  },
  {
   "cell_type": "code",
   "execution_count": null,
   "id": "flying-asset",
   "metadata": {},
   "outputs": [],
   "source": [
    "model.save('pneumonia_model_15.h5')"
   ]
  },
  {
   "cell_type": "code",
   "execution_count": null,
   "id": "authentic-lottery",
   "metadata": {},
   "outputs": [],
   "source": [
    "import numpy as np\n",
    "from keras.preprocessing import image\n",
    "test_image = image.load_img('C:/Users/allwy/Desktop/fd943cc03bb4bcafe60c7acf0b4c48_jumbo.jpeg', target_size=(64,64))\n",
    "test_image = image.img_to_array(test_image)\n",
    "test_image = np.expand_dims(test_image, axis = 0)\n",
    "result = cnn.predict(test_image)\n",
    "training_set.class_indices"
   ]
  },
  {
   "cell_type": "code",
   "execution_count": null,
   "id": "recovered-fiber",
   "metadata": {},
   "outputs": [],
   "source": [
    "print(result)"
   ]
  }
 ],
 "metadata": {
  "kernelspec": {
   "display_name": "Python 3",
   "language": "python",
   "name": "python3"
  },
  "language_info": {
   "codemirror_mode": {
    "name": "ipython",
    "version": 3
   },
   "file_extension": ".py",
   "mimetype": "text/x-python",
   "name": "python",
   "nbconvert_exporter": "python",
   "pygments_lexer": "ipython3",
   "version": "3.7.10"
  }
 },
 "nbformat": 4,
 "nbformat_minor": 5
}
